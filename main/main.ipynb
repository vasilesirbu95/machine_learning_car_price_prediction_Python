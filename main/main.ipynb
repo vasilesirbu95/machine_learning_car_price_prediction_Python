{
 "cells": [
  {
   "cell_type": "markdown",
   "id": "4e98cc2e-19ef-4747-afb3-c604a7a42dcf",
   "metadata": {},
   "source": [
    "### Import"
   ]
  },
  {
   "cell_type": "code",
   "execution_count": 1,
   "id": "af28f350-62dd-4d68-bdc3-2e36c6ab5b17",
   "metadata": {},
   "outputs": [],
   "source": [
    "# Python Bibliotheken\n",
    "import pandas as pd\n",
    "import numpy as np\n",
    "import matplotlib.pyplot as plt\n",
    "import time\n",
    "import os.path\n",
    "\n",
    "from sklearn.model_selection import train_test_split, GridSearchCV\n",
    "from sklearn.preprocessing import StandardScaler\n",
    "from sklearn.metrics import r2_score\n",
    "import joblib\n",
    "\n",
    "from tensorflow import keras\n",
    "from tensorflow.keras import layers\n",
    "from sklearn.linear_model import LinearRegression\n",
    "from sklearn.tree import DecisionTreeRegressor\n",
    "from sklearn.ensemble import RandomForestRegressor\n",
    "from sklearn.ensemble import GradientBoostingRegressor \n",
    "from sklearn.preprocessing import PolynomialFeatures\n",
    "from sklearn.pipeline import make_pipeline\n",
    "import xgboost as xgb\n",
    "\n",
    "# Eigene Module\n",
    "from dataset_cleaning import dataset_cleaning\n",
    "from api_download_dataset_kaggle import api_download_dataset_kaggle"
   ]
  },
  {
   "cell_type": "markdown",
   "id": "6bc07047-5e47-4812-aca4-c9f6226d5d00",
   "metadata": {},
   "source": [
    "### Laden und Bearbeiten des Datensatzes"
   ]
  },
  {
   "cell_type": "markdown",
   "id": "24ebcb5f-ca01-4bbf-8ffc-a0e72af5232f",
   "metadata": {},
   "source": [
    "Der Dataset wird von Kaggle über eine API heruntergeladen.\n",
    "Damit die Verbindung funktioniert müssen sie folgenden Schritte erledigen.\n",
    "\n",
    "- Installation der kaggle-Bibliothek--> pip install kaggle\n",
    "- Einlogen in Kaggle\n",
    "- Profil --> Settings --> Create new token --> automatisches Download von \"kaggle.json\"\n",
    "- .kaggle Ordner in \"C:\\Users\\\" oder \"C:\\Users\\admin\" erstellen\n",
    "- \"kaggle.json\" in .kaggle einfügen\n"
   ]
  },
  {
   "cell_type": "code",
   "execution_count": 2,
   "id": "afe4dc1b-ff50-4437-8d59-49e03805f79a",
   "metadata": {},
   "outputs": [],
   "source": [
    "# Pfad der Rohdaten\n",
    "raw_dataset_path = 'autoscout24-germany-dataset.csv'\n",
    "\n",
    "# Wenn die Datei bereits existiert, wird diese nicht nochmal heruntergeladen\n",
    "if not os.path.exists(raw_dataset_path):\n",
    "    api_download_dataset_kaggle()"
   ]
  },
  {
   "cell_type": "code",
   "execution_count": 3,
   "id": "fbf74e59-bf96-41f4-a0b2-2664792f4cff",
   "metadata": {},
   "outputs": [
    {
     "name": "stdout",
     "output_type": "stream",
     "text": [
      "       Kilometerstand   Marke  Model         Kraftstoff Getriebe  Preis  \\\n",
      "194               100    Fiat  Panda           Gasoline   Manual  10600   \n",
      "197                15    Fiat  Panda  Electric/Gasoline   Manual  10980   \n",
      "198                15    Fiat  Panda  Electric/Gasoline   Manual  10980   \n",
      "200                 9  Toyota   Aygo           Gasoline   Manual  11490   \n",
      "201                 9  Toyota   Aygo           Gasoline   Manual  11490   \n",
      "...               ...     ...    ...                ...      ...    ...   \n",
      "46400              99    Fiat    500  Electric/Gasoline   Manual  12990   \n",
      "46401              99    Fiat    500  Electric/Gasoline   Manual  12990   \n",
      "46402              99    Fiat    500  Electric/Gasoline   Manual  12990   \n",
      "46403              99    Fiat    500  Electric/Gasoline   Manual  12990   \n",
      "46404              99    Fiat    500  Electric/Gasoline   Manual  12990   \n",
      "\n",
      "       Leistung  Baujahr  \n",
      "194        69.0     2021  \n",
      "197        69.0     2021  \n",
      "198        69.0     2021  \n",
      "200        72.0     2021  \n",
      "201        72.0     2021  \n",
      "...         ...      ...  \n",
      "46400      71.0     2021  \n",
      "46401      71.0     2021  \n",
      "46402      71.0     2021  \n",
      "46403      71.0     2021  \n",
      "46404      71.0     2021  \n",
      "\n",
      "[3832 rows x 8 columns]\n"
     ]
    }
   ],
   "source": [
    "# Bereinigung des Datensets --> Pfad der bereinigten Daten\n",
    "cleaned_dataset_path = dataset_cleaning(raw_dataset_path)\n",
    "    "
   ]
  },
  {
   "cell_type": "code",
   "execution_count": 4,
   "id": "86f7c268-4854-4130-a38e-723947466716",
   "metadata": {},
   "outputs": [],
   "source": [
    "# Laden des Datensatzes\n",
    "df = pd.read_csv(cleaned_dataset_path)\n",
    "\n",
    "# Definition von Variablen\n",
    "brand_col = \"Marke\"\n",
    "model_col = \"Model\"\n",
    "\n",
    "# Einträge pro Model zählen\n",
    "model_counts = df.groupby([brand_col, model_col]).size()\n",
    "\n",
    "# Modelle mit weniger als 50 Einträgen identifizieren\n",
    "models_to_remove = model_counts[model_counts < 50].index\n",
    "\n",
    "# Modelle entfernen\n",
    "for brand, model in models_to_remove:\n",
    "    df = df.drop(df[(df[brand_col] == brand) & (df[model_col] == model)].index)\n",
    "    \n",
    "# Ausgabe des bereinigten Datensatzes\n",
    "model_counts = df.groupby([brand_col, model_col]).size()\n",
    "\n",
    "# Daten eines einzigen Kfz-Modells sortieren\n",
    "df_vw = df[(df[\"Marke\"] == \"Volkswagen\") & (df[\"Model\"] == \"Golf\")]"
   ]
  },
  {
   "cell_type": "markdown",
   "id": "cde913e5-2ef9-4ad0-bd09-9b1caa215fb5",
   "metadata": {},
   "source": [
    "### Trainingsvorbereitung"
   ]
  },
  {
   "cell_type": "code",
   "execution_count": 5,
   "id": "f9800a46-8c14-4200-8853-4a5272dad9e0",
   "metadata": {},
   "outputs": [],
   "source": [
    "# Auswählen der Merkmale und der Zielvariablen\n",
    "features = ['Kilometerstand', 'Leistung', 'Baujahr']\n",
    "target = 'Preis'\n",
    "\n",
    "# Aufteilen des Datensatzes in Trainings- und Testdaten\n",
    "X_train, X_test, y_train, y_test = train_test_split(df_vw[features], df_vw[target], test_size=0.2, random_state=42)\n",
    "\n",
    "# Skalieren der Merkmale\n",
    "scaler = StandardScaler()\n",
    "X_train_scaled = scaler.fit_transform(X_train)\n",
    "X_test_scaled = scaler.transform(X_test)"
   ]
  },
  {
   "cell_type": "markdown",
   "id": "3f9e1771-3b5e-4219-b37c-b3939819ec1c",
   "metadata": {},
   "source": [
    "### Definition von Parametern"
   ]
  },
  {
   "cell_type": "code",
   "execution_count": 6,
   "id": "6be3cb1a-b88d-4713-8048-73338a52e685",
   "metadata": {},
   "outputs": [
    {
     "name": "stderr",
     "output_type": "stream",
     "text": [
      "C:\\Users\\admin\\AppData\\Local\\Programs\\Python\\Python310\\lib\\site-packages\\keras\\src\\layers\\core\\dense.py:87: UserWarning: Do not pass an `input_shape`/`input_dim` argument to a layer. When using Sequential models, prefer using an `Input(shape)` object as the first layer in the model instead.\n",
      "  super().__init__(activity_regularizer=activity_regularizer, **kwargs)\n"
     ]
    }
   ],
   "source": [
    "# Parameter der Modelle\n",
    "models = {\n",
    "    'Lineare Regression': LinearRegression(),\n",
    "    'Polynomische Regression': make_pipeline(PolynomialFeatures(3), LinearRegression()),\n",
    "    'Entscheidungsbaumregression': DecisionTreeRegressor(random_state=42),\n",
    "    'Random Forest Regression': RandomForestRegressor(random_state=42),\n",
    "    'Gradient Boosting Regression': GradientBoostingRegressor(random_state=42),\n",
    "    'Deep Learning': keras.Sequential([\n",
    "    layers.Dense(64, activation='relu', input_shape=(X_train_scaled.shape[1],)),\n",
    "    layers.Dense(64, activation='relu'),\n",
    "    layers.Dense(64, activation='relu'),\n",
    "    layers.Dense(64, activation='relu'),\n",
    "    layers.Dense(1)  # Ausgabeschicht für die Preisvorhersage\n",
    "])\n",
    "}\n",
    "\n",
    "model_param_grid = {\n",
    "    'Entscheidungsbaumregression': {\n",
    "                                    'max_depth': [7, 8, 9],\n",
    "                                    'min_samples_split': [9, 10, 11],\n",
    "                                    'min_samples_leaf': [1, 2, 3],\n",
    "                                    'max_features': [2, 3, 4]\n",
    "                                },\n",
    "    'Random Forest Regression': {\n",
    "                                    'n_estimators': [195, 200, 205],\n",
    "                                    'max_depth': [7, 8, 9],\n",
    "                                    'min_samples_split': [2, 3, 4],\n",
    "                                    'min_samples_leaf': [1, 2],\n",
    "                                    'max_features': ['sqrt']\n",
    "                                },\n",
    "    'Gradient Boosting Regression': {\n",
    "                                    'n_estimators': [95, 96, 97],\n",
    "                                    'learning_rate': [0.11, 0.12, 0.13],\n",
    "                                    'max_depth': [1, 2, 3],\n",
    "                                    'subsample': [0.79, 0.8, 0.81] \n",
    "                                }\n",
    "\n",
    "}\n"
   ]
  },
  {
   "cell_type": "markdown",
   "id": "17994a8f-8160-4f13-8f0f-72dd6740bad4",
   "metadata": {},
   "source": [
    "### Trainieren der ML-Modelle"
   ]
  },
  {
   "cell_type": "code",
   "execution_count": 7,
   "id": "0449270e-1cca-420a-91ec-d2bc5d53ee7a",
   "metadata": {},
   "outputs": [],
   "source": [
    "def eb_rfr_gbr(name, model, X_train, X_test, y_train, y_test, model_param_grid):\n",
    "    # GridSearchCV initialisieren\n",
    "    grid_search = GridSearchCV(estimator=model, param_grid=model_param_grid[name], cv=3, n_jobs=-1, verbose=0, scoring='r2')\n",
    "    \n",
    "    # GridSearchCV trainieren\n",
    "    model_fit = grid_search.fit(X_train, y_train)\n",
    "    \n",
    "    # Beste Hyperparameter ausgeben\n",
    "    # print(\"Beste Hyperparameter:\", grid_search.best_params_)\n",
    "    best_params[name] = grid_search.best_params_\n",
    "    \n",
    "    # Bestes Modell aus GridSearchCV abrufen\n",
    "    best_rf_model = grid_search.best_estimator_\n",
    "    \n",
    "    # Vorhersagen mit dem besten Modell\n",
    "    y_pred_test = best_rf_model.predict(X_test)\n",
    "    y_pred_train = best_rf_model.predict(X_train)\n",
    "    predictions[name] = y_pred_test\n",
    "\n",
    "    # R2-Werte ausgeben\n",
    "    r2_scores_test[name] = r2_score(y_test, y_pred_test)\n",
    "    r2_scores_train[name] = r2_score(y_train, y_pred_train)\n",
    "    models_fit[name] = model_fit\n",
    "    return r2_scores_test, r2_scores_train, predictions, models_fit, best_params"
   ]
  },
  {
   "cell_type": "code",
   "execution_count": 8,
   "id": "c64947cc-661f-4769-ba62-df4627d4ab55",
   "metadata": {},
   "outputs": [],
   "source": [
    "def deep_lr(name, model, X_train, X_test, y_train, y_test, model_param_grid):\n",
    "    # Kompilieren des Modells\n",
    "    model.compile(optimizer='adam', loss='mse')\n",
    "    \n",
    "    # Trainieren des Modells\n",
    "    model_fit = model.fit(X_train_scaled, y_train, epochs=100, batch_size=32, verbose=0)\n",
    "    \n",
    "    # Vorhersagen auf den Testdaten\n",
    "    y_pred_test = model.predict(X_test_scaled)\n",
    "    y_pred_train = model.predict(X_train_scaled)\n",
    "    predictions[name] = y_pred_test\n",
    "    \n",
    "    # Berechnen des R²-Werts\n",
    "    r2_scores_test[name] = r2_score(y_test, y_pred_test)\n",
    "    r2_scores_train[name] = r2_score(y_train, y_pred_train)\n",
    "    models_fit[name] = model_fit\n",
    "    return r2_scores_test, r2_scores_train, predictions, models_fit, best_params"
   ]
  },
  {
   "cell_type": "code",
   "execution_count": 9,
   "id": "804248b9-849a-48e2-8f02-1dc90156f310",
   "metadata": {},
   "outputs": [],
   "source": [
    "def lin_pol_regr(name, model, X_train, X_test, y_train, y_test, model_param_grid):\n",
    "    model_fit = model.fit(X_train, y_train)\n",
    "    \n",
    "    # Vorhersagen auf den Testdaten\n",
    "    y_pred_test = model.predict(X_test)\n",
    "    y_pred_train = model.predict(X_train)\n",
    "    predictions[name] = y_pred_test\n",
    "    \n",
    "    # Berechnen des Bestimmungsmaßes R^2\n",
    "    r2_scores_test[name] = r2_score(y_test, y_pred_test)\n",
    "    r2_scores_train[name] = r2_score(y_train, y_pred_train)\n",
    "    models_fit[name] = model_fit\n",
    "    return r2_scores_test, r2_scores_train, predictions, models_fit, best_params"
   ]
  },
  {
   "cell_type": "code",
   "execution_count": 10,
   "id": "4cbe3df0-c705-4cee-a9e0-56ff80541544",
   "metadata": {},
   "outputs": [],
   "source": [
    "def ml_models(name, model, X_train, X_test, y_train, y_test, model_param_grid):\n",
    "    if name in ['Entscheidungsbaumregression', 'Random Forest Regression','Gradient Boosting Regression']:\n",
    "        r2_scores_test, r2_scores_train, predictions, models_fit, best_params = eb_rfr_gbr(name, model, X_train, X_test, y_train, y_test, model_param_grid)\n",
    "\n",
    "    elif name == 'Deep Learning':\n",
    "        r2_scores_test, r2_scores_train, predictions, models_fit,best_params = deep_lr(name, model, X_train, X_test, y_train, y_test, model_param_grid)\n",
    "\n",
    "    else:\n",
    "        r2_scores_test, r2_scores_train, predictions, models_fit,best_params = lin_pol_regr(name, model, X_train, X_test, y_train, y_test, model_param_grid)\n",
    "    \n",
    "    return r2_scores_test, r2_scores_train, predictions, models_fit, best_params"
   ]
  },
  {
   "cell_type": "code",
   "execution_count": 11,
   "id": "e436ad48-3aaf-43ad-b966-de60a9327b50",
   "metadata": {},
   "outputs": [
    {
     "name": "stdout",
     "output_type": "stream",
     "text": [
      "Lineare Regression\n",
      "\u001b[1mLineare Regression\u001b[0m\n",
      "R2_test Lineare Regression: 0.8638171219134214\n",
      "R2_train Lineare Regression: 0.8789085333707969\n",
      "Die Ausführungszeit für Lineare Regression beträgt 0.008975744247436523 Sekunden.\n",
      "----------------------------------------------------\n",
      "\n",
      "Polynomische Regression\n",
      "\u001b[1mPolynomische Regression\u001b[0m\n",
      "R2_test Polynomische Regression: 0.9069220485289801\n",
      "R2_train Polynomische Regression: 0.9284459440464532\n",
      "Die Ausführungszeit für Polynomische Regression beträgt 0.011968135833740234 Sekunden.\n",
      "----------------------------------------------------\n",
      "\n",
      "Entscheidungsbaumregression\n",
      "\u001b[1mEntscheidungsbaumregression\u001b[0m\n",
      "R2_test Entscheidungsbaumregression: 0.9238949462843588\n",
      "R2_train Entscheidungsbaumregression: 0.9511590136625331\n",
      "Die Ausführungszeit für Entscheidungsbaumregression beträgt 3.8038580417633057 Sekunden.\n",
      "----------------------------------------------------\n",
      "\n",
      "Random Forest Regression\n",
      "\u001b[1mRandom Forest Regression\u001b[0m\n",
      "R2_test Random Forest Regression: 0.9267149031007669\n",
      "R2_train Random Forest Regression: 0.9590215195774612\n",
      "Die Ausführungszeit für Random Forest Regression beträgt 21.662071228027344 Sekunden.\n",
      "----------------------------------------------------\n",
      "\n",
      "Gradient Boosting Regression\n",
      "\u001b[1mGradient Boosting Regression\u001b[0m\n",
      "R2_test Gradient Boosting Regression: 0.9222304569809753\n",
      "R2_train Gradient Boosting Regression: 0.9475993643303943\n",
      "Die Ausführungszeit für Gradient Boosting Regression beträgt 9.638111352920532 Sekunden.\n",
      "----------------------------------------------------\n",
      "\n",
      "Deep Learning\n",
      "\u001b[1m10/10\u001b[0m \u001b[32m━━━━━━━━━━━━━━━━━━━━\u001b[0m\u001b[37m\u001b[0m \u001b[1m0s\u001b[0m 9ms/step \n",
      "\u001b[1m37/37\u001b[0m \u001b[32m━━━━━━━━━━━━━━━━━━━━\u001b[0m\u001b[37m\u001b[0m \u001b[1m0s\u001b[0m 1ms/step \n",
      "\u001b[1mDeep Learning\u001b[0m\n",
      "R2_test Deep Learning: 0.8945201635360718\n",
      "R2_train Deep Learning: 0.9166936278343201\n",
      "Die Ausführungszeit für Deep Learning beträgt 11.235476016998291 Sekunden.\n",
      "----------------------------------------------------\n",
      "\n"
     ]
    }
   ],
   "source": [
    "best_param = []\n",
    "bold_start = \"\\033[1m\"\n",
    "bold_end = \"\\033[0m\"\n",
    "best_params = {}\n",
    "predictions = {}\n",
    "r2_scores_test = {}\n",
    "r2_scores_train = {}\n",
    "models_fit = {}\n",
    "\n",
    "\n",
    "for name, model in models.items():\n",
    "    print(name)\n",
    "    start_time = time.time()\n",
    "    r2_scores_test, r2_scores_train, _, _, _ = ml_models(name, model, X_train, X_test, y_train, y_test, model_param_grid)\n",
    "    end_time = time.time()\n",
    "    execution_time = end_time - start_time\n",
    "    \n",
    "    print(f\"{bold_start}{name}{bold_end}\")\n",
    "    print(f\"R2_test {name}: {r2_scores_test[name]}\")\n",
    "    print(f\"R2_train {name}: {r2_scores_train[name]}\")\n",
    "    print(f\"Die Ausführungszeit für {name} beträgt {execution_time} Sekunden.\")\n",
    "    print(\"----------------------------------------------------\")\n",
    "    print(\"\")"
   ]
  },
  {
   "cell_type": "markdown",
   "id": "8a474111-6a92-415b-b891-4ff4b5cb2a41",
   "metadata": {},
   "source": [
    "### Ermittlung der besten Methode"
   ]
  },
  {
   "cell_type": "markdown",
   "id": "e834ef03-4adb-4b32-a979-a5c54159fcd2",
   "metadata": {},
   "source": [
    "Im weiteren wird nur die beste Machine Learning Methode eingesetzt. In diesem Fall hat Random Forest Regression am besten abgeschnitten."
   ]
  },
  {
   "cell_type": "code",
   "execution_count": 12,
   "id": "158d5889-baeb-4d00-b2b0-9a35fd55af42",
   "metadata": {},
   "outputs": [
    {
     "name": "stdout",
     "output_type": "stream",
     "text": [
      "Bestes Modell: \u001b[1mRandom Forest Regression\u001b[0m\n",
      "R²-Wert des besten Modells: \u001b[1m0.9267149031007669\u001b[0m\n"
     ]
    }
   ],
   "source": [
    "# Bestes Modell bestimmen\n",
    "best_model_name = max(r2_scores_test, key=r2_scores_test.get)\n",
    "best_model_r2 = r2_scores_test[best_model_name]\n",
    "\n",
    "# Bestes Modell und R²-Wert ausgeben\n",
    "print(f\"Bestes Modell: {bold_start}{best_model_name}{bold_end}\")\n",
    "print(f\"R²-Wert des besten Modells: {bold_start}{best_model_r2}{bold_end}\")"
   ]
  },
  {
   "cell_type": "markdown",
   "id": "1808871a-1c33-4eb9-8364-171473183b24",
   "metadata": {},
   "source": [
    "Das sind die Hyperparamtere des besten Modells. Diese wurden durch Finetuning optimiert, dabei wurde die Grid Search Methode verwendet."
   ]
  },
  {
   "cell_type": "code",
   "execution_count": 13,
   "id": "2cfb21d8-8c7a-4383-a449-8065fcd6d314",
   "metadata": {},
   "outputs": [
    {
     "data": {
      "text/plain": [
       "{'max_depth': 8,\n",
       " 'max_features': 'sqrt',\n",
       " 'min_samples_leaf': 1,\n",
       " 'min_samples_split': 4,\n",
       " 'n_estimators': 195}"
      ]
     },
     "execution_count": 13,
     "metadata": {},
     "output_type": "execute_result"
    }
   ],
   "source": [
    "_,_,_,_,best_params = ml_models(best_model_name, models[best_model_name], X_train, X_test, y_train, y_test, model_param_grid)\n",
    "best_params[best_model_name]\n"
   ]
  },
  {
   "cell_type": "markdown",
   "id": "9c3bdf62-c18a-4fc4-ab42-193edb33c109",
   "metadata": {},
   "source": [
    "### Plotten (Tatsächlicher vs vorhergesagter Preis)"
   ]
  },
  {
   "cell_type": "markdown",
   "id": "f90d1529-aead-4e0f-97bc-422ca4c8e217",
   "metadata": {},
   "source": [
    "Im Weiteren werden die tatsächlichen und die vorhergesagten Preise abgebildet. Die rote Linie kennzeichnet die ideale Linie. Je näher die Punkte an der Linie liegen, desto besser ist die Vorhersage des Modells."
   ]
  },
  {
   "cell_type": "code",
   "execution_count": 14,
   "id": "f8bdc26c-4cfa-47ef-8417-3012e7060746",
   "metadata": {},
   "outputs": [
    {
     "data": {
      "image/png": "[encoded data removed]",
      "text/plain": [
       "<Figure size 1000x600 with 1 Axes>"
      ]
     },
     "metadata": {},
     "output_type": "display_data"
    }
   ],
   "source": [
    "    \n",
    "# Erstellen der Plots\n",
    "_, _, predictions, _, _ = ml_models(best_model_name, models[best_model_name], X_train, X_test, y_train, y_test, model_param_grid)\n",
    "y_pred_test = predictions[best_model_name]\n",
    "\n",
    "plt.figure(figsize=(10, 6))\n",
    "\n",
    "# Scatterplot der Rohdaten\n",
    "plt.scatter(y_test, y_pred_test, alpha=0.5, label='Rohdaten')\n",
    "\n",
    "# Linienplot der vorhergesagten Daten\n",
    "plt.plot(y_test, y_test, color='red', label='Vorhersagen')\n",
    "\n",
    "plt.title(f'Rohdaten vs. Vorhersagen ({best_model_name})')\n",
    "plt.xlabel('Tatsächlicher Preis')\n",
    "plt.ylabel('Vorhergesagter Preis')\n",
    "plt.legend()\n",
    "plt.grid(True)\n",
    "plt.show()"
   ]
  },
  {
   "cell_type": "markdown",
   "id": "86115f3e-69d8-46a1-8b4c-8bc730b871c1",
   "metadata": {},
   "source": [
    "### Alle Modelle"
   ]
  },
  {
   "cell_type": "markdown",
   "id": "8027e9d3-d896-45a3-b5c6-c7f25e5e90d9",
   "metadata": {},
   "source": [
    "Das beste ML-Model wird für jede Marke und Model einzeln berechnet und gespeichert"
   ]
  },
  {
   "cell_type": "code",
   "execution_count": 15,
   "id": "c55ecacd-5a41-4171-beb4-597bece7607c",
   "metadata": {},
   "outputs": [],
   "source": [
    "param = {}\n",
    "for i in best_params[best_model_name].keys():\n",
    "    param[i] = [best_params[best_model_name][i]]\n"
   ]
  },
  {
   "cell_type": "markdown",
   "id": "0d4ccff0-2f8e-4b9e-903b-c20f8782b4da",
   "metadata": {},
   "source": [
    "Die ML-Modelle für alle Fahrzeuge und KFZ-Modelle werden in einem Ordner abgelegt. Diese werden später bei der Preisberechnung aufgerufen."
   ]
  },
  {
   "cell_type": "code",
   "execution_count": 16,
   "id": "2977bb23-a559-4bc7-9805-01f3a95fa7ff",
   "metadata": {},
   "outputs": [
    {
     "name": "stdout",
     "output_type": "stream",
     "text": [
      "Fertig\n"
     ]
    }
   ],
   "source": [
    "model_counts = df.groupby([brand_col, model_col]).size()\n",
    "# Auswählen der Merkmale und der Zielvariablen\n",
    "features = ['Kilometerstand', 'Leistung', 'Baujahr']\n",
    "target = 'Preis'\n",
    "model_param_grid = {best_model_name : param}\n",
    "\n",
    "for marke, model_car in model_counts.index:\n",
    "    df_mm = df[(df[\"Marke\"] == marke) & (df[\"Model\"] == model_car)]\n",
    "    # Aufteilen des Datensatzes in Trainings- und Testdaten\n",
    "    X_train, X_test, y_train, y_test = train_test_split(df_mm[features], df_mm[target], test_size=0.2, random_state=42)\n",
    "    \n",
    "    R2,_,_,mdlf, best_params = ml_models(best_model_name, models[best_model_name], X_train, X_test, y_train, y_test, model_param_grid)\n",
    "    \n",
    "    model_name = \"car_price_models/\" + marke + '_' + model_car[0:2] + '_ml.joblib'\n",
    "    \n",
    "\n",
    "    datei_pfad = \"meine_datei.txt\"\n",
    "    \n",
    "    if os.path.exists(model_name):\n",
    "        continue\n",
    "    else:\n",
    "        joblib.dump(mdlf[best_model_name], model_name)\n",
    "        \n",
    "    #print(f\"{marke} {model_car} --> R^2: {R2[best_model_name]}\")\n",
    "    #print(\"\")\n",
    "print(\"Fertig\")"
   ]
  },
  {
   "cell_type": "markdown",
   "id": "b73b385b-161a-4643-aaab-7817cdb2b7fd",
   "metadata": {},
   "source": [
    "### GUI"
   ]
  },
  {
   "cell_type": "markdown",
   "id": "e618dad5-1713-4525-8557-7f4cd41dcb32",
   "metadata": {},
   "source": [
    "Mit Hilfe der pyqt5 Bibliothek wird eine GUI erstellt, um die Eingabe und die Berechnung der Preise zu vereinfachen."
   ]
  },
  {
   "cell_type": "code",
   "execution_count": null,
   "id": "bec34aab-32fc-4b1d-a876-6c9280032437",
   "metadata": {},
   "outputs": [
    {
     "name": "stderr",
     "output_type": "stream",
     "text": [
      "C:\\Users\\admin\\AppData\\Local\\Programs\\Python\\Python310\\lib\\site-packages\\sklearn\\utils\\validation.py:2739: UserWarning: X does not have valid feature names, but RandomForestRegressor was fitted with feature names\n",
      "  warnings.warn(\n"
     ]
    },
    {
     "name": "stdout",
     "output_type": "stream",
     "text": [
      "Das eingegebene Fahrzeug kostet: 15638.84713064713 Euro\n",
      "Marke: BMW\n",
      "Modell: 530\n",
      "Kilometerstand: 200000\n",
      "Leistung: 240\n",
      "Baujahr: 2013\n",
      "Berechneter Preis: 15638.84713064713\n"
     ]
    }
   ],
   "source": [
    "import sys\n",
    "import os\n",
    "import pandas as pd\n",
    "import joblib\n",
    "from PyQt5.QtWidgets import (QApplication, QWidget, QLabel, QComboBox,\n",
    "                             QLineEdit, QPushButton, QVBoxLayout, QFormLayout)\n",
    "\n",
    "class KfzEingabe(QWidget):\n",
    "    def __init__(self):\n",
    "        super().__init__()\n",
    "        self.initUI()\n",
    "\n",
    "    def initUI(self):\n",
    "        self.setWindowTitle(\"KFZ-Preis Prädiktionstool\")\n",
    "\n",
    "        # Dropdown-Listen\n",
    "        self.marke_label = QLabel(\"Marke:\")\n",
    "        self.marke_combo = QComboBox()\n",
    "        self.marke_combo.addItems(marken_liste)\n",
    "\n",
    "        self.modell_label = QLabel(\"Modell:\")\n",
    "        self.modell_combo = QComboBox()\n",
    "        self.modell_combo.addItems(modelle_liste)\n",
    "\n",
    "        # Eingabefelder\n",
    "        self.kilometer_label = QLabel(\"Kilometerstand:\")\n",
    "        self.kilometer_edit = QLineEdit()\n",
    "\n",
    "        self.leistung_label = QLabel(\"Leistung (PS):\")\n",
    "        self.leistung_edit = QLineEdit()\n",
    "\n",
    "        self.baujahr_label = QLabel(\"Baujahr:\")\n",
    "        self.baujahr_edit = QLineEdit()\n",
    "\n",
    "        # Button\n",
    "        self.anzeigen_button = QPushButton(\"Daten anzeigen und Preis berechnen\")\n",
    "        self.anzeigen_button.clicked.connect(self.daten_anzeigen_und_preis_berechnen)\n",
    "\n",
    "        # Feld für den berechneten Preis\n",
    "        self.preis_label = QLabel(\"Berechneter Preis:\")\n",
    "        self.preis_edit = QLineEdit()\n",
    "        self.preis_edit.setReadOnly(True)\n",
    "\n",
    "        # Feld für das geladene Modell\n",
    "        self.modell_label = QLabel(\"Modell:\")\n",
    "        self.modell_edit = QLineEdit()\n",
    "        self.modell_edit.setReadOnly(True)\n",
    "\n",
    "        # Schließen Button\n",
    "        self.schliessen_button = QPushButton(\"Schließen\")\n",
    "        self.schliessen_button.clicked.connect(self.close)\n",
    "\n",
    "        # Layout\n",
    "        form_layout = QFormLayout()\n",
    "        form_layout.addRow(self.marke_label, self.marke_combo)\n",
    "        form_layout.addRow(self.modell_label, self.modell_combo)\n",
    "        form_layout.addRow(self.kilometer_label, self.kilometer_edit)\n",
    "        form_layout.addRow(self.leistung_label, self.leistung_edit)\n",
    "        form_layout.addRow(self.baujahr_label, self.baujahr_edit)\n",
    "\n",
    "        main_layout = QVBoxLayout()\n",
    "        main_layout.addLayout(form_layout)\n",
    "        main_layout.addWidget(self.anzeigen_button)\n",
    "        main_layout.addWidget(self.preis_label)\n",
    "        main_layout.addWidget(self.preis_edit)\n",
    "        main_layout.addWidget(self.modell_edit)\n",
    "        main_layout.addWidget(self.schliessen_button)  # Schließen-Button hinzugefügt\n",
    "\n",
    "        self.setLayout(main_layout)\n",
    "\n",
    "    def daten_anzeigen_und_preis_berechnen(self):\n",
    "        marke = self.marke_combo.currentText()\n",
    "        modell = self.modell_combo.currentText()\n",
    "        kilometer = self.kilometer_edit.text()\n",
    "        leistung = self.leistung_edit.text()\n",
    "        baujahr = self.baujahr_edit.text()\n",
    "\n",
    "        preis, model_name = self.berechne_preis(marke, modell, kilometer, leistung, baujahr)\n",
    "        self.preis_edit.setText(str(preis))\n",
    "        self.modell_edit.setText(str(model_name))\n",
    "\n",
    "        print(\"Marke:\", marke)\n",
    "        print(\"Modell:\", modell)\n",
    "        print(\"Kilometerstand:\", kilometer)\n",
    "        print(\"Leistung:\", leistung)\n",
    "        print(\"Baujahr:\", baujahr)\n",
    "        print(\"Berechneter Preis:\", preis)\n",
    "\n",
    "    def berechne_preis(self, marke, modell, kilometer, leistung, baujahr):\n",
    "        model_name = 'car_price_models/' + marke + '_' + modell[0:2] + '_ml.joblib'\n",
    "\n",
    "        try:\n",
    "            X_neu = pd.DataFrame([kilometer, leistung, baujahr]).T\n",
    "\n",
    "            if os.path.isfile(model_name):\n",
    "                geladenes_modell = joblib.load(model_name)\n",
    "                preis = geladenes_modell.predict(X_neu)\n",
    "                print(f\"Das eingegebene Fahrzeug kostet: {preis[0]} Euro\")\n",
    "                return preis[0], model_name\n",
    "            else:\n",
    "                self.preis_edit.setText(\"Model Datei nicht gefunden!\")\n",
    "                return 0\n",
    "\n",
    "        except ValueError:\n",
    "            self.preis_edit.setText(\"Fehlerhafte Eingabe!\")\n",
    "            return 0\n",
    "\n",
    "# Beispiel-Daten für die Dropdown-Listen\n",
    "multi_index = model_counts.index\n",
    "marken_liste = multi_index.levels[0].tolist()\n",
    "modelle_liste = multi_index.levels[1].tolist()\n",
    "\n",
    "if __name__ == \"__main__\":\n",
    "    app = QApplication(sys.argv)\n",
    "    fenster = KfzEingabe()\n",
    "    fenster.show()\n",
    "    sys.exit(app.exec_())"
   ]
  },
  {
   "cell_type": "code",
   "execution_count": null,
   "id": "300bffb7-89b4-47a2-9fd4-916d4bbe3a37",
   "metadata": {},
   "outputs": [],
   "source": []
  }
 ],
 "metadata": {
  "kernelspec": {
   "display_name": "Python 3 (ipykernel)",
   "language": "python",
   "name": "python3"
  },
  "language_info": {
   "codemirror_mode": {
    "name": "ipython",
    "version": 3
   },
   "file_extension": ".py",
   "mimetype": "text/x-python",
   "name": "python",
   "nbconvert_exporter": "python",
   "pygments_lexer": "ipython3",
   "version": "3.10.11"
  }
 },
 "nbformat": 4,
 "nbformat_minor": 5
}
